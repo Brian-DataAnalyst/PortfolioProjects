{
 "cells": [
  {
   "cell_type": "code",
   "execution_count": 2,
   "id": "3eeb0cc8",
   "metadata": {},
   "outputs": [],
   "source": [
    "# import libraries\n",
    "\n",
    "from bs4 import BeautifulSoup\n",
    "import requests\n",
    "import time\n",
    "import datetime\n",
    "import pandas as pd\n",
    "\n",
    "\n",
    "import smtplib"
   ]
  },
  {
   "cell_type": "code",
   "execution_count": 3,
   "id": "d367bda0",
   "metadata": {
    "scrolled": true
   },
   "outputs": [
    {
     "name": "stdout",
     "output_type": "stream",
     "text": [
      "\n",
      "                   Data Analyst T Shirt - Torture The Data\n",
      "                  \n",
      "\n",
      "                    5 ratings\n",
      "                   \n"
     ]
    }
   ],
   "source": [
    "# connect to website\n",
    "\n",
    "URL = 'https://www.amazon.com/Data-Analyst-Shirt-Torture/dp/B07JGDRXQV/ref=sr_1_48?crid=1FWA9GPI5LJM0&keywords=data+analyst+shirt+pig&qid=1645038468&sprefix=data+analyst+shirt+pig%2Caps%2C111&sr=8-48'\n",
    "headers = {\"User-Agent\": \"Mozilla/5.0 (Windows NT 10.0; Win64; x64) AppleWebKit/537.36 (KHTML, like Gecko) Chrome/98.0.4758.102 Safari/537.36\", \"Accept-Encoding\":\"gzip, deflate\", \"Accept\":\"text/html,application/xhtml+xml,application/xml;q=0.9,*/*;q=0.8\", \"DNT\":\"1\",\"Connection\":\"close\", \"Upgrade-Insecure-Requests\":\"1\"}\n",
    "\n",
    "\n",
    "page = requests.get(URL, headers = headers)\n",
    "\n",
    "soup1 = BeautifulSoup(page.content, \"html.parser\")\n",
    "\n",
    "soup2 = BeautifulSoup(soup1.prettify(), \"html.parser\")\n",
    "\n",
    "\n",
    "title = soup2.find(id='productTitle').get_text()\n",
    "\n",
    "rating = soup2.find(id='acrCustomerReviewText').get_text()\n",
    "\n",
    "print(title)\n",
    "print(rating)"
   ]
  },
  {
   "cell_type": "code",
   "execution_count": 4,
   "id": "3e4ccb03",
   "metadata": {},
   "outputs": [
    {
     "name": "stdout",
     "output_type": "stream",
     "text": [
      "Data Analyst T Shirt - Torture The Data\n",
      "5 ratings\n"
     ]
    },
    {
     "data": {
      "text/plain": [
       "str"
      ]
     },
     "execution_count": 4,
     "metadata": {},
     "output_type": "execute_result"
    }
   ],
   "source": [
    "title = title.strip()\n",
    "rating = rating.strip()\n",
    "print(title)\n",
    "print(rating)\n",
    "\n",
    "#type(title)\n",
    "type(rating)"
   ]
  },
  {
   "cell_type": "code",
   "execution_count": 6,
   "id": "e4f36ba2",
   "metadata": {},
   "outputs": [
    {
     "name": "stdout",
     "output_type": "stream",
     "text": [
      "2022-02-17\n"
     ]
    }
   ],
   "source": [
    "import datetime\n",
    "\n",
    "today = datetime.date.today()\n",
    "\n",
    "print(today)"
   ]
  },
  {
   "cell_type": "code",
   "execution_count": 7,
   "id": "c67db92e",
   "metadata": {},
   "outputs": [],
   "source": [
    "import csv\n",
    "\n",
    "header = ['Title', 'Rating','Date']\n",
    "data = [title,rating,today]\n",
    "\n",
    "with open('AmazonWebScraperDataSet.csv', 'w', newline='',encoding='UTF8') as f:\n",
    "    writer = csv.writer(f)\n",
    "    writer.writerow(header)\n",
    "    writer.writerow(data)\n",
    "\n"
   ]
  },
  {
   "cell_type": "code",
   "execution_count": 8,
   "id": "ca388a9b",
   "metadata": {},
   "outputs": [
    {
     "name": "stdout",
     "output_type": "stream",
     "text": [
      "                                     Title     Rating        Date\n",
      "0  Data Analyst T Shirt - Torture The Data  5 ratings  2022-02-17\n"
     ]
    }
   ],
   "source": [
    "\n",
    "\n",
    "df = pd.read_csv(r'C:\\Users\\brian\\AmazonWebScraperDataSet.csv')\n",
    "\n",
    "print(df)"
   ]
  },
  {
   "cell_type": "code",
   "execution_count": null,
   "id": "a6c6f697",
   "metadata": {},
   "outputs": [],
   "source": [
    "#how we are appending the data to the csv\n",
    "\n",
    "with open('AmazonWebScraperDataSet.csv', 'a+', newline='',encoding='UTF8') as f:\n",
    "    writer = csv.writer(f)\n",
    "    writer.writerow(data)"
   ]
  },
  {
   "cell_type": "code",
   "execution_count": 9,
   "id": "16f70d23",
   "metadata": {},
   "outputs": [],
   "source": [
    "# Automation for daily rating checks\n",
    "\n",
    "def check_rating():\n",
    "    URL = 'https://www.amazon.com/Data-Analyst-Shirt-Torture/dp/B07JGDRXQV/ref=sr_1_48?crid=1FWA9GPI5LJM0&keywords=data+analyst+shirt+pig&qid=1645038468&sprefix=data+analyst+shirt+pig%2Caps%2C111&sr=8-48'\n",
    "    headers = {\"User-Agent\": \"Mozilla/5.0 (Windows NT 10.0; Win64; x64) AppleWebKit/537.36 (KHTML, like Gecko) Chrome/98.0.4758.102 Safari/537.36\", \"Accept-Encoding\":\"gzip, deflate\", \"Accept\":\"text/html,application/xhtml+xml,application/xml;q=0.9,*/*;q=0.8\", \"DNT\":\"1\",\"Connection\":\"close\", \"Upgrade-Insecure-Requests\":\"1\"}\n",
    "    page = requests.get(URL, headers = headers)\n",
    "    soup1 = BeautifulSoup(page.content, \"html.parser\")\n",
    "    soup2 = BeautifulSoup(soup1.prettify(), \"html.parser\")\n",
    "    title = soup2.find(id='productTitle').get_text()\n",
    "    rating = soup2.find(id='acrCustomerReviewText').get_text()\n",
    "    title = title.strip()\n",
    "    rating = rating.strip()\n",
    "    \n",
    "    import datetime\n",
    "    \n",
    "    today=datetime.date.today()\n",
    "    \n",
    "    import csv\n",
    "\n",
    "    header = ['Title', 'Rating','Date']\n",
    "    data = [title,rating,today]\n",
    "\n",
    "    with open('AmazonWebScraperDataSet.csv', 'a+', newline='',encoding='UTF8') as f:\n",
    "        writer = csv.writer(f)\n",
    "        writer.writerow(data)"
   ]
  },
  {
   "cell_type": "code",
   "execution_count": null,
   "id": "25bccca4",
   "metadata": {},
   "outputs": [],
   "source": [
    "while(True):\n",
    "    check_rating()\n",
    "    time.sleep(86400)"
   ]
  },
  {
   "cell_type": "code",
   "execution_count": null,
   "id": "777f647d",
   "metadata": {},
   "outputs": [],
   "source": []
  }
 ],
 "metadata": {
  "kernelspec": {
   "display_name": "Python 3 (ipykernel)",
   "language": "python",
   "name": "python3"
  },
  "language_info": {
   "codemirror_mode": {
    "name": "ipython",
    "version": 3
   },
   "file_extension": ".py",
   "mimetype": "text/x-python",
   "name": "python",
   "nbconvert_exporter": "python",
   "pygments_lexer": "ipython3",
   "version": "3.9.7"
  }
 },
 "nbformat": 4,
 "nbformat_minor": 5
}
